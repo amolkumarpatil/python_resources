{
  "nbformat": 4,
  "nbformat_minor": 0,
  "metadata": {
    "colab": {
      "name": "python_intro_rev.ipynb",
      "provenance": [],
      "collapsed_sections": [],
      "authorship_tag": "ABX9TyOPLKdOr1m2WNYi3Uil37AU"
    },
    "kernelspec": {
      "name": "python3",
      "display_name": "Python 3"
    },
    "language_info": {
      "name": "python"
    }
  },
  "cells": [
    {
      "cell_type": "code",
      "metadata": {
        "id": "IzGLCUBCDzJ9"
      },
      "source": [
        "# Starting with OOPM\n",
        "class Parrot:\n",
        "  pass"
      ],
      "execution_count": 2,
      "outputs": []
    },
    {
      "cell_type": "code",
      "metadata": {
        "id": "OZi6OpJPHyuy"
      },
      "source": [
        "obj = Parrot()"
      ],
      "execution_count": 3,
      "outputs": []
    },
    {
      "cell_type": "code",
      "metadata": {
        "id": "VXCPpY6_FhTS"
      },
      "source": [
        "# Enterting few information in the class\n",
        "class Car:\n",
        "\n",
        "  # class attribute\n",
        "  company = 'maruti'\n",
        "\n",
        "  # instance attribute\n",
        "  def __init__(self):\n",
        "    self.car_name = 'Brezza'\n",
        "    self.car_price = 8.69\n",
        "\n",
        "# intiate the car class\n",
        "carObj = Car()"
      ],
      "execution_count": 4,
      "outputs": []
    },
    {
      "cell_type": "code",
      "metadata": {
        "colab": {
          "base_uri": "https://localhost:8080/",
          "height": 35
        },
        "id": "t7gDFfEyFKNI",
        "outputId": "19708938-7597-48ab-e522-6493b4584794"
      },
      "source": [
        "carObj.car_name"
      ],
      "execution_count": 5,
      "outputs": [
        {
          "output_type": "execute_result",
          "data": {
            "application/vnd.google.colaboratory.intrinsic+json": {
              "type": "string"
            },
            "text/plain": [
              "'Brezza'"
            ]
          },
          "metadata": {
            "tags": []
          },
          "execution_count": 5
        }
      ]
    },
    {
      "cell_type": "code",
      "metadata": {
        "id": "xmWXzGztFQcA"
      },
      "source": [
        "# Now try with passing attribute in the function \n",
        "class Car:\n",
        "\n",
        "  # class attribute\n",
        "  company = 'maruti'\n",
        "\n",
        "  # These attributes are defined inside the __init__ method \n",
        "  # of the class. It is the initializer method that is first run as soon as the object is created.\n",
        "  def __init__(self, name, price):\n",
        "    self.car_name = name\n",
        "    self.car_price = price\n",
        "\n",
        "# intiate the car class\n",
        "carObj = Car('Brezza',8.69)\n",
        "\n"
      ],
      "execution_count": 6,
      "outputs": []
    },
    {
      "cell_type": "code",
      "metadata": {
        "colab": {
          "base_uri": "https://localhost:8080/",
          "height": 35
        },
        "id": "7xYUsuzDfl5u",
        "outputId": "7b53273d-3650-4883-d03a-9915818906e6"
      },
      "source": [
        "# acces the incance attibute\n",
        "carObj.car_name"
      ],
      "execution_count": 7,
      "outputs": [
        {
          "output_type": "execute_result",
          "data": {
            "application/vnd.google.colaboratory.intrinsic+json": {
              "type": "string"
            },
            "text/plain": [
              "'Brezza'"
            ]
          },
          "metadata": {
            "tags": []
          },
          "execution_count": 7
        }
      ]
    },
    {
      "cell_type": "code",
      "metadata": {
        "colab": {
          "base_uri": "https://localhost:8080/",
          "height": 35
        },
        "id": "8MvdWLjdfpSa",
        "outputId": "dff8c006-9e9f-47c1-9f01-5abb597aef6b"
      },
      "source": [
        "# access the class attribute\n",
        "carObj.__class__.company"
      ],
      "execution_count": 8,
      "outputs": [
        {
          "output_type": "execute_result",
          "data": {
            "application/vnd.google.colaboratory.intrinsic+json": {
              "type": "string"
            },
            "text/plain": [
              "'maruti'"
            ]
          },
          "metadata": {
            "tags": []
          },
          "execution_count": 8
        }
      ]
    },
    {
      "cell_type": "markdown",
      "metadata": {
        "id": "_2onztalgy5r"
      },
      "source": [
        "\n",
        "## Methods\n",
        "Methods are the functions inside the body of the class\n"
      ]
    },
    {
      "cell_type": "code",
      "metadata": {
        "id": "8vYb6IX3gRWa"
      },
      "source": [
        "class Car:\n",
        "  \n",
        "  #instace attribute\n",
        "  def __init__(self, name, price):\n",
        "    self.name = name\n",
        "    self.price = price\n",
        "\n",
        "  # instance method\n",
        "  def mileage(self, mileage):\n",
        "    return \"{} is the mileage of {}\".format(mileage,self.name)\n",
        "\n",
        "  def color(self, color):\n",
        "    return \"{} is the color of {}\".format(color,self.name)\n",
        "\n",
        "xuv = Car(\"XUV300\", 10.8)\n"
      ],
      "execution_count": 9,
      "outputs": []
    },
    {
      "cell_type": "code",
      "metadata": {
        "colab": {
          "base_uri": "https://localhost:8080/"
        },
        "id": "SXkpPD2Gh0S8",
        "outputId": "07241dd5-ef82-43ba-afb1-3ad82cd9b328"
      },
      "source": [
        "# Accessing class methods\n",
        "print(xuv.color('red'))"
      ],
      "execution_count": 10,
      "outputs": [
        {
          "output_type": "stream",
          "text": [
            "red is the color of XUV300\n"
          ],
          "name": "stdout"
        }
      ]
    },
    {
      "cell_type": "markdown",
      "metadata": {
        "id": "0i6y8MBLiRoh"
      },
      "source": [
        "## Inheritance\n",
        "It is the way of creating new class and using details of existing class"
      ]
    },
    {
      "cell_type": "code",
      "metadata": {
        "id": "NEPwSHxliBDw"
      },
      "source": [
        "# Note Our parent class is Car\n",
        "\n",
        "# Child class\n",
        "class OldCar(Car):\n",
        "  def __init__(self, old_car_name):\n",
        "    super().__init__('Xuv300',8.69)  # super method allows us to use mthods of the parentclass without explicitly mentioning their name and to pass the variables to the parent class\n",
        "    self.old_car_name = old_car_name\n",
        "  \n",
        "  def old_color(self, old_color):\n",
        "    return \"Color of the old car {} is {}\".format(self.old_car_name, old_color)\n"
      ],
      "execution_count": 11,
      "outputs": []
    },
    {
      "cell_type": "code",
      "metadata": {
        "id": "SkuBZLdojEJV"
      },
      "source": [
        "old = OldCar('Brezza')"
      ],
      "execution_count": 12,
      "outputs": []
    },
    {
      "cell_type": "code",
      "metadata": {
        "colab": {
          "base_uri": "https://localhost:8080/"
        },
        "id": "xWCnn87VjPgQ",
        "outputId": "5b8f4444-2933-4c3f-bef4-8e769d520a9b"
      },
      "source": [
        "old.old_color('blue'),old.color('Red')"
      ],
      "execution_count": 13,
      "outputs": [
        {
          "output_type": "execute_result",
          "data": {
            "text/plain": [
              "('Color of the old car Brezza is blue', 'Red is the color of Xuv300')"
            ]
          },
          "metadata": {
            "tags": []
          },
          "execution_count": 13
        }
      ]
    },
    {
      "cell_type": "markdown",
      "metadata": {
        "id": "p0fq3dUurYUS"
      },
      "source": [
        "## Encapsulation \n",
        "It is used to restrict the use of methods and variables.\n",
        "Encapsulation can hide variables from its own class method and also from child class methods."
      ]
    },
    {
      "cell_type": "code",
      "metadata": {
        "id": "bJ1L0oXkrMQy"
      },
      "source": [
        "class Car:\n",
        "  \n",
        "  #instace attribute\n",
        "  def __init__(self, name):\n",
        "    self.name = name\n",
        "    self.__price = 300\n",
        "\n",
        "  # instance method\n",
        "  def mileage(self, mileage):\n",
        "    return \"{} is the mileage of {} car who's price is {}\".format(mileage,self.name, self.__price)\n",
        "\n",
        "  def price(self, price):\n",
        "    self.__price = price\n",
        "    return \"{} is the price of {}\".format(self.__price,self.name)"
      ],
      "execution_count": 22,
      "outputs": []
    },
    {
      "cell_type": "code",
      "metadata": {
        "id": "vUeH9cp2kdQg"
      },
      "source": [
        "carO = Car(\"Amaze\")"
      ],
      "execution_count": 23,
      "outputs": []
    },
    {
      "cell_type": "code",
      "metadata": {
        "colab": {
          "base_uri": "https://localhost:8080/"
        },
        "id": "ZwoSGBTksBW7",
        "outputId": "35fe3d56-62de-44cc-b8ea-9f7bea50db37"
      },
      "source": [
        "print(carO.price(200))"
      ],
      "execution_count": 24,
      "outputs": [
        {
          "output_type": "stream",
          "text": [
            "200 is the price of Amaze\n"
          ],
          "name": "stdout"
        }
      ]
    },
    {
      "cell_type": "code",
      "metadata": {
        "colab": {
          "base_uri": "https://localhost:8080/"
        },
        "id": "bOFyOnD8sG3y",
        "outputId": "60ec548e-7c2c-4cdf-e0e8-2d7a259aec7e"
      },
      "source": [
        "print(carO.mileage(20))"
      ],
      "execution_count": 26,
      "outputs": [
        {
          "output_type": "stream",
          "text": [
            "20 is the mileage of Amaze car who's price is 200\n"
          ],
          "name": "stdout"
        }
      ]
    },
    {
      "cell_type": "markdown",
      "metadata": {
        "id": "1yLmh9eHs9Jr"
      },
      "source": [
        "## Polymorphism\n",
        "\n",
        "We can create a class method with same name but different functionality. So same method will have different forms theoretically."
      ]
    },
    {
      "cell_type": "code",
      "metadata": {
        "id": "2srtQNlgsNLq"
      },
      "source": [
        "class Signals:\n",
        "  def __init__(self, breaking): \n",
        "    self.breaking = breaking\n",
        "\n",
        "  def aeb(self):\n",
        "    return \"AEB breaking applied with signal {}\".format(self.breaking)\n",
        "\n",
        "class Warning(Signals):\n",
        "  def __init__(self, warn):\n",
        "    # self.warn = warn\n",
        "    super().__init__(warn)\n",
        "\n",
        "  def fcw(self):\n",
        "    return \"FCW breaking applied with signal {}\".format(self.breaking)\n",
        "\n",
        "sig = Warning(1)\n",
        "  "
      ],
      "execution_count": 79,
      "outputs": []
    },
    {
      "cell_type": "code",
      "metadata": {
        "colab": {
          "base_uri": "https://localhost:8080/",
          "height": 35
        },
        "id": "RKKC36pzysOl",
        "outputId": "636b05a5-4461-461a-f274-3c2b590f888a"
      },
      "source": [
        "sig.fcw()"
      ],
      "execution_count": 80,
      "outputs": [
        {
          "output_type": "execute_result",
          "data": {
            "application/vnd.google.colaboratory.intrinsic+json": {
              "type": "string"
            },
            "text/plain": [
              "'FCW breaking applied with signal 1'"
            ]
          },
          "metadata": {
            "tags": []
          },
          "execution_count": 80
        }
      ]
    },
    {
      "cell_type": "code",
      "metadata": {
        "colab": {
          "base_uri": "https://localhost:8080/",
          "height": 35
        },
        "id": "UxwrTKLny2eB",
        "outputId": "2705b1b9-7a0a-45d0-d3cf-f6f11ca303ff"
      },
      "source": [
        "sig.aeb()"
      ],
      "execution_count": 81,
      "outputs": [
        {
          "output_type": "execute_result",
          "data": {
            "application/vnd.google.colaboratory.intrinsic+json": {
              "type": "string"
            },
            "text/plain": [
              "'AEB breaking applied with signal 1'"
            ]
          },
          "metadata": {
            "tags": []
          },
          "execution_count": 81
        }
      ]
    },
    {
      "cell_type": "code",
      "metadata": {
        "id": "7yWQdO0J3Wrq"
      },
      "source": [
        ""
      ],
      "execution_count": null,
      "outputs": []
    }
  ]
}