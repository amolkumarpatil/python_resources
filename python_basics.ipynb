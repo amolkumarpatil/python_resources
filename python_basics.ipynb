{
  "nbformat": 4,
  "nbformat_minor": 0,
  "metadata": {
    "colab": {
      "name": "python_basics.ipynb",
      "provenance": [],
      "authorship_tag": "ABX9TyPzOLqErrR+lr4zhtBdloy8"
    },
    "kernelspec": {
      "name": "python3",
      "display_name": "Python 3"
    },
    "language_info": {
      "name": "python"
    }
  },
  "cells": [
    {
      "cell_type": "markdown",
      "metadata": {
        "id": "61jqJbbFIX6v"
      },
      "source": [
        "## Variables and Data Types\n",
        "Supports both integers and floatung numbers that is decimals.\n",
        "It also supports complex numbers too.\n",
        "In python, user do not need to declare the variable ahead of assigning like in c, cpp.\n",
        "A variable is created the moment you first assign a value to it.\n",
        "\n",
        "\n"
      ]
    },
    {
      "cell_type": "code",
      "metadata": {
        "id": "FkFbT3KiPQ2f"
      },
      "source": [
        "x = 6\n",
        "name = 'Amol'"
      ],
      "execution_count": 5,
      "outputs": []
    },
    {
      "cell_type": "code",
      "metadata": {
        "colab": {
          "base_uri": "https://localhost:8080/",
          "height": 35
        },
        "id": "S9Ip0vCfPYsZ",
        "outputId": "e69a44a0-2ac5-4280-a594-e1df5441ac01"
      },
      "source": [
        "# VAriables can adjust their type if assigned later with different type\n",
        "x = 1\n",
        "x = 'Amol'\n",
        "x"
      ],
      "execution_count": 7,
      "outputs": [
        {
          "output_type": "execute_result",
          "data": {
            "application/vnd.google.colaboratory.intrinsic+json": {
              "type": "string"
            },
            "text/plain": [
              "'Amol'"
            ]
          },
          "metadata": {
            "tags": []
          },
          "execution_count": 7
        }
      ]
    },
    {
      "cell_type": "code",
      "metadata": {
        "colab": {
          "base_uri": "https://localhost:8080/"
        },
        "id": "e71UwaVbQP-9",
        "outputId": "2b14d1c0-d66d-4136-8191-f96d92f66b0c"
      },
      "source": [
        "# Variables are case sensitive in python\n",
        "x = 3\n",
        "X = 1\n",
        "x,X"
      ],
      "execution_count": 8,
      "outputs": [
        {
          "output_type": "execute_result",
          "data": {
            "text/plain": [
              "(3, 1)"
            ]
          },
          "metadata": {
            "tags": []
          },
          "execution_count": 8
        }
      ]
    },
    {
      "cell_type": "markdown",
      "metadata": {
        "id": "tHR1BMdMQ4b_"
      },
      "source": [
        "# Variables Naming Rules\n",
        "* Variable can start with a name or underscore\n",
        "* Variable cannot start with a number\n",
        "* Variable can only contain alpha-numeric characters \n",
        "* Variables are case-sensitive like discussed earlier"
      ]
    },
    {
      "cell_type": "code",
      "metadata": {
        "id": "vKZuSyR6RUQ6"
      },
      "source": [
        "# Legal variable name\n",
        "var = 1\n",
        "Var = 2\n",
        "var_1 = 3\n",
        "var_a = 4\n",
        "_var = 5\n",
        "VAR = 7\n",
        "var2 = 8"
      ],
      "execution_count": 9,
      "outputs": []
    },
    {
      "cell_type": "code",
      "metadata": {
        "colab": {
          "base_uri": "https://localhost:8080/",
          "height": 131
        },
        "id": "7y6Ik61JRtIy",
        "outputId": "0cfbf0e6-0be0-4697-f42e-9cdec6ab4151"
      },
      "source": [
        "# Illegal variable name\n",
        "var 1 = 1\n",
        "var-a = 2\n",
        "1var = 4"
      ],
      "execution_count": 10,
      "outputs": [
        {
          "output_type": "error",
          "ename": "SyntaxError",
          "evalue": "ignored",
          "traceback": [
            "\u001b[0;36m  File \u001b[0;32m\"<ipython-input-10-4d4323a63c57>\"\u001b[0;36m, line \u001b[0;32m2\u001b[0m\n\u001b[0;31m    var 1 = 1\u001b[0m\n\u001b[0m        ^\u001b[0m\n\u001b[0;31mSyntaxError\u001b[0m\u001b[0;31m:\u001b[0m invalid syntax\n"
          ]
        }
      ]
    },
    {
      "cell_type": "code",
      "metadata": {
        "id": "g5r_FmoxSBrt"
      },
      "source": [
        "# Namin convention to be followed\n",
        "\n",
        "# Camel Case\n",
        "varName = 'Amol'\n",
        "\n",
        "# Pascal Case\n",
        "VarName = 'Amol'\n",
        "\n",
        "# snake case\n",
        "var_name = 'Amol'\n"
      ],
      "execution_count": 11,
      "outputs": []
    },
    {
      "cell_type": "code",
      "metadata": {
        "colab": {
          "base_uri": "https://localhost:8080/"
        },
        "id": "oDEfyjO-HVP3",
        "outputId": "ecb71bb6-caf2-4548-9ad4-99f6ea57e730"
      },
      "source": [
        "# Numbers \n",
        "a = 7\n",
        "print(a)\n"
      ],
      "execution_count": 1,
      "outputs": [
        {
          "output_type": "stream",
          "text": [
            "7\n"
          ],
          "name": "stdout"
        }
      ]
    },
    {
      "cell_type": "code",
      "metadata": {
        "colab": {
          "base_uri": "https://localhost:8080/"
        },
        "id": "UH5R3RQcMFIE",
        "outputId": "73afd7df-6c71-4dea-8cbc-06f63df1c57f"
      },
      "source": [
        "# Flaoting number \n",
        "b = 7.0\n",
        "print(b)"
      ],
      "execution_count": 2,
      "outputs": [
        {
          "output_type": "stream",
          "text": [
            "7.0\n"
          ],
          "name": "stdout"
        }
      ]
    },
    {
      "cell_type": "code",
      "metadata": {
        "colab": {
          "base_uri": "https://localhost:8080/"
        },
        "id": "Zv2g733qMMkQ",
        "outputId": "05dab201-1ab7-40b9-e1e6-d5a6456e9de1"
      },
      "source": [
        "# checking type of variables\n",
        "type(a)"
      ],
      "execution_count": 3,
      "outputs": [
        {
          "output_type": "execute_result",
          "data": {
            "text/plain": [
              "int"
            ]
          },
          "metadata": {
            "tags": []
          },
          "execution_count": 3
        }
      ]
    },
    {
      "cell_type": "code",
      "metadata": {
        "colab": {
          "base_uri": "https://localhost:8080/"
        },
        "id": "PRcq6-xWMU9g",
        "outputId": "a6efc4d3-c866-4e14-c3c7-6d16e548a019"
      },
      "source": [
        "type(b)"
      ],
      "execution_count": 4,
      "outputs": [
        {
          "output_type": "execute_result",
          "data": {
            "text/plain": [
              "float"
            ]
          },
          "metadata": {
            "tags": []
          },
          "execution_count": 4
        }
      ]
    },
    {
      "cell_type": "code",
      "metadata": {
        "id": "aNttqYZUMWPQ"
      },
      "source": [
        ""
      ],
      "execution_count": null,
      "outputs": []
    }
  ]
}