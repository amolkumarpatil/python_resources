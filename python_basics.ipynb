{
  "nbformat": 4,
  "nbformat_minor": 0,
  "metadata": {
    "colab": {
      "name": "python_basics.ipynb",
      "provenance": [],
      "authorship_tag": "ABX9TyOwSe2gfZujQcuLRTFx+WUT"
    },
    "kernelspec": {
      "name": "python3",
      "display_name": "Python 3"
    },
    "language_info": {
      "name": "python"
    }
  },
  "cells": [
    {
      "cell_type": "markdown",
      "metadata": {
        "id": "61jqJbbFIX6v"
      },
      "source": [
        "## Variables\n",
        "Python supports both integers and floatung numbers that is decimals.\n",
        "It also supports complex numbers too.\n",
        "In python, user do not need to declare the variable ahead of assigning like in c, cpp.\n",
        "A variable is created the moment you first assign a value to it.\n",
        "\n",
        "\n"
      ]
    },
    {
      "cell_type": "code",
      "metadata": {
        "id": "FkFbT3KiPQ2f"
      },
      "source": [
        "x = 6\n",
        "name = 'Amol'"
      ],
      "execution_count": 5,
      "outputs": []
    },
    {
      "cell_type": "code",
      "metadata": {
        "colab": {
          "base_uri": "https://localhost:8080/",
          "height": 35
        },
        "id": "S9Ip0vCfPYsZ",
        "outputId": "e69a44a0-2ac5-4280-a594-e1df5441ac01"
      },
      "source": [
        "# VAriables can adjust their type if assigned later with different type\n",
        "x = 1\n",
        "x = 'Amol'\n",
        "x"
      ],
      "execution_count": 7,
      "outputs": [
        {
          "output_type": "execute_result",
          "data": {
            "application/vnd.google.colaboratory.intrinsic+json": {
              "type": "string"
            },
            "text/plain": [
              "'Amol'"
            ]
          },
          "metadata": {
            "tags": []
          },
          "execution_count": 7
        }
      ]
    },
    {
      "cell_type": "code",
      "metadata": {
        "colab": {
          "base_uri": "https://localhost:8080/"
        },
        "id": "e71UwaVbQP-9",
        "outputId": "2b14d1c0-d66d-4136-8191-f96d92f66b0c"
      },
      "source": [
        "# Variables are case sensitive in python\n",
        "x = 3\n",
        "X = 1\n",
        "x,X"
      ],
      "execution_count": 8,
      "outputs": [
        {
          "output_type": "execute_result",
          "data": {
            "text/plain": [
              "(3, 1)"
            ]
          },
          "metadata": {
            "tags": []
          },
          "execution_count": 8
        }
      ]
    },
    {
      "cell_type": "markdown",
      "metadata": {
        "id": "tHR1BMdMQ4b_"
      },
      "source": [
        "# Variables Naming Rules\n",
        "* Variable can start with a name or underscore\n",
        "* Variable cannot start with a number\n",
        "* Variable can only contain alpha-numeric characters \n",
        "* Variables are case-sensitive like discussed earlier"
      ]
    },
    {
      "cell_type": "code",
      "metadata": {
        "id": "vKZuSyR6RUQ6"
      },
      "source": [
        "# Legal variable name\n",
        "var = 1\n",
        "Var = 2\n",
        "var_1 = 3\n",
        "var_a = 4\n",
        "_var = 5\n",
        "VAR = 7\n",
        "var2 = 8"
      ],
      "execution_count": 9,
      "outputs": []
    },
    {
      "cell_type": "code",
      "metadata": {
        "colab": {
          "base_uri": "https://localhost:8080/",
          "height": 131
        },
        "id": "7y6Ik61JRtIy",
        "outputId": "0cfbf0e6-0be0-4697-f42e-9cdec6ab4151"
      },
      "source": [
        "# Illegal variable name\n",
        "var 1 = 1\n",
        "var-a = 2\n",
        "1var = 4"
      ],
      "execution_count": 10,
      "outputs": [
        {
          "output_type": "error",
          "ename": "SyntaxError",
          "evalue": "ignored",
          "traceback": [
            "\u001b[0;36m  File \u001b[0;32m\"<ipython-input-10-4d4323a63c57>\"\u001b[0;36m, line \u001b[0;32m2\u001b[0m\n\u001b[0;31m    var 1 = 1\u001b[0m\n\u001b[0m        ^\u001b[0m\n\u001b[0;31mSyntaxError\u001b[0m\u001b[0;31m:\u001b[0m invalid syntax\n"
          ]
        }
      ]
    },
    {
      "cell_type": "code",
      "metadata": {
        "id": "g5r_FmoxSBrt"
      },
      "source": [
        "# Namin convention to be followed\n",
        "\n",
        "# Camel Case\n",
        "varName = 'Amol'\n",
        "\n",
        "# Pascal Case\n",
        "VarName = 'Amol'\n",
        "\n",
        "# snake case\n",
        "var_name = 'Amol'\n"
      ],
      "execution_count": 11,
      "outputs": []
    },
    {
      "cell_type": "code",
      "metadata": {
        "colab": {
          "base_uri": "https://localhost:8080/"
        },
        "id": "aNttqYZUMWPQ",
        "outputId": "ceb5e551-2c76-47e3-fbaf-f158c40ce1b3"
      },
      "source": [
        "# Assign multiple values to variables in single line\n",
        "a ,b ,c = 1, 'Amol', 2\n",
        "print(a,b,c)"
      ],
      "execution_count": 12,
      "outputs": [
        {
          "output_type": "stream",
          "text": [
            "1 Amol 2\n"
          ],
          "name": "stdout"
        }
      ]
    },
    {
      "cell_type": "code",
      "metadata": {
        "colab": {
          "base_uri": "https://localhost:8080/"
        },
        "id": "blJHB20gosty",
        "outputId": "1db01f30-0b56-46b5-87ce-9d7822e2dc35"
      },
      "source": [
        "# Decalring global Variables\n",
        "x = \"awesome\"\n",
        "\n",
        "def myfunc():\n",
        "  x = \"fantastic\"\n",
        "  print(\"Python is \", x)\n",
        "\n",
        "myfunc()\n",
        "print('Python is ', x)\n",
        "\n"
      ],
      "execution_count": 17,
      "outputs": [
        {
          "output_type": "stream",
          "text": [
            "Python is  fantastic\n",
            "Python is  awesome\n"
          ],
          "name": "stdout"
        }
      ]
    },
    {
      "cell_type": "markdown",
      "metadata": {
        "id": "j5P-4c2Vp9kq"
      },
      "source": [
        "## Data Types\n",
        "Below are some data types which are in-built in python :-\n",
        "* str\n",
        "* int, float, complex\n",
        "* list, tuple, range\n",
        "* dict\n",
        "* set\n",
        "* bool\n",
        "* byte, bytearray"
      ]
    },
    {
      "cell_type": "code",
      "metadata": {
        "colab": {
          "base_uri": "https://localhost:8080/"
        },
        "id": "cvD_8CtBpAow",
        "outputId": "4371533a-b3d8-48ff-b30a-6be29c65cb25"
      },
      "source": [
        "a = 5\n",
        "type(a)"
      ],
      "execution_count": 18,
      "outputs": [
        {
          "output_type": "execute_result",
          "data": {
            "text/plain": [
              "int"
            ]
          },
          "metadata": {
            "tags": []
          },
          "execution_count": 18
        }
      ]
    },
    {
      "cell_type": "code",
      "metadata": {
        "colab": {
          "base_uri": "https://localhost:8080/"
        },
        "id": "A4IL5G_mqWa2",
        "outputId": "7ec517d7-3ba8-4110-ecef-16d5e349a874"
      },
      "source": [
        "a = 'Amol'\n",
        "type(a)"
      ],
      "execution_count": 19,
      "outputs": [
        {
          "output_type": "execute_result",
          "data": {
            "text/plain": [
              "str"
            ]
          },
          "metadata": {
            "tags": []
          },
          "execution_count": 19
        }
      ]
    },
    {
      "cell_type": "code",
      "metadata": {
        "colab": {
          "base_uri": "https://localhost:8080/"
        },
        "id": "jack1a-fqofu",
        "outputId": "6ea37f86-d79c-4ca4-852e-87dd34425578"
      },
      "source": [
        "a = 2.0\n",
        "type(a)"
      ],
      "execution_count": 22,
      "outputs": [
        {
          "output_type": "execute_result",
          "data": {
            "text/plain": [
              "float"
            ]
          },
          "metadata": {
            "tags": []
          },
          "execution_count": 22
        }
      ]
    },
    {
      "cell_type": "code",
      "metadata": {
        "colab": {
          "base_uri": "https://localhost:8080/"
        },
        "id": "oiUD3q6xqj9N",
        "outputId": "01fd8a5c-06df-431f-a01a-1069c38000ff"
      },
      "source": [
        "a = complex(2,4)\n",
        "a"
      ],
      "execution_count": 21,
      "outputs": [
        {
          "output_type": "execute_result",
          "data": {
            "text/plain": [
              "(2+4j)"
            ]
          },
          "metadata": {
            "tags": []
          },
          "execution_count": 21
        }
      ]
    },
    {
      "cell_type": "code",
      "metadata": {
        "colab": {
          "base_uri": "https://localhost:8080/"
        },
        "id": "FB3EbCRyqmKd",
        "outputId": "9196ee26-3075-4660-fa64-8baeada89aea"
      },
      "source": [
        "x = bytearray(5)\n",
        "x"
      ],
      "execution_count": 25,
      "outputs": [
        {
          "output_type": "execute_result",
          "data": {
            "text/plain": [
              "bytearray(b'\\x00\\x00\\x00\\x00\\x00')"
            ]
          },
          "metadata": {
            "tags": []
          },
          "execution_count": 25
        }
      ]
    },
    {
      "cell_type": "code",
      "metadata": {
        "id": "rOvSmjjiqu41"
      },
      "source": [
        ""
      ],
      "execution_count": 27,
      "outputs": []
    },
    {
      "cell_type": "code",
      "metadata": {
        "id": "cQMSa1NSq2oO"
      },
      "source": [
        ""
      ],
      "execution_count": null,
      "outputs": []
    }
  ]
}